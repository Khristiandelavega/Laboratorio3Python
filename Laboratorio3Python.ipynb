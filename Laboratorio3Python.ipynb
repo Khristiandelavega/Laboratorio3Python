{
 "cells": [
  {
   "cell_type": "markdown",
   "metadata": {},
   "source": [
    "## Laboratorio 3 PYTHON\n",
    "##### Khristian De La Vega\n",
    "##### Marvin Lopez"
   ]
  },
  {
   "cell_type": "code",
   "execution_count": 1,
   "metadata": {},
   "outputs": [
    {
     "name": "stdout",
     "output_type": "stream",
     "text": [
      "Conversion de Segundos a \n",
      "--formato de salida: HH/MM/SS-- \n",
      "\n",
      "\n",
      "Ingrese el valor en segundos: \n",
      "93804\n",
      "\n",
      "El resultado de la conversion:\n",
      "26 horas\n",
      "3 minutos\n",
      "24 Segundos\n",
      "\n",
      "Desea continuar? y/n: n\n",
      "\n",
      "El programa ha finalizado\n",
      "Gracias por utilizar el programa desarrollado por Khristian De La Vega y Marvin Lopez\n"
     ]
    }
   ],
   "source": [
    "# Parte 1\n",
    "# Pregunta 1\n",
    "print(\"Conversion de Segundos a \\n--formato de salida: HH/MM/SS-- \\n\\n\")\n",
    "z = True\n",
    "while(z):\n",
    "  try:\n",
    "    ingreso = int(input(\"Ingrese el valor en segundos: \\n\"))\n",
    "    def sec_to_hours(seconds):\n",
    "      hrs = seconds//3600\n",
    "      min = (seconds%3600)//60\n",
    "      sec = (seconds%3600)%60\n",
    "      print(\"\\nEl resultado de la conversion:\\n\" + str(hrs) + \" horas\\n\" + str(min) + \" minutos\\n\" + str(sec) + \" Segundos\")\n",
    "    \n",
    "    sec_to_hours(ingreso)\n",
    "    \n",
    "    x = input(\"\\nDesea continuar? y/n: \")\n",
    "    if x==\"n\":\n",
    "      z = False\n",
    "      print(\"\\nEl programa ha finalizado\")\n",
    "      print(\"Gracias por utilizar el programa desarrollado por Khristian De La Vega y Marvin Lopez\")\n",
    "    elif x==\"y\":\n",
    "      continue\n",
    "\n",
    "  except(ValueError):\n",
    "    print(\"El valor ingresado deben ser segundos en formato de numeros\")"
   ]
  },
  {
   "cell_type": "code",
   "execution_count": 2,
   "metadata": {},
   "outputs": [
    {
     "name": "stdout",
     "output_type": "stream",
     "text": [
      "Ingrese un numero del 1 al 20: \n",
      "4\n",
      "Ingrese un caracter para el patron: \n",
      "y\n",
      "\n",
      "\n",
      "\n",
      "y\n",
      "yy\n",
      "yyy\n",
      "yyyy\n",
      "\n",
      "yyyy\n",
      " yyy\n",
      "  yy\n",
      "   y\n",
      "    \n",
      "\n",
      "yyyy\n",
      "yyy\n",
      "yy\n",
      "y\n",
      "\n",
      "\n",
      "    y\n",
      "   yy\n",
      "  yyy\n",
      " yyyy\n"
     ]
    }
   ],
   "source": [
    "# Parte 1\n",
    "# Pregunta 2\n",
    "\n",
    "try:\n",
    "  x = int(input(\"Ingrese un numero del 1 al 20: \\n\"))\n",
    "\n",
    "  y = input(\"Ingrese un caracter para el patron: \\n\")\n",
    "  print(\"\\n\\n\")\n",
    "\n",
    "\n",
    "  def pattern1(x, y):\n",
    "    for i in range(x):\n",
    "      a = (y * (i+1))\n",
    "      print(a)\n",
    "\n",
    "  def pattern2(x, y):\n",
    "    b = 0\n",
    "    for i in range(x+1, 0, -1):\n",
    "      a = ((\" \"*b)+((y)*(i-1)))\n",
    "      b += 1\n",
    "      print(a)\n",
    "\n",
    "  def pattern3(x, y):\n",
    "    for i in range(x+1, 0, -1): \n",
    "      a = (y * (i-1))  \n",
    "      print(a) \n",
    "\n",
    "  def pattern4(x, y):\n",
    "    b = 1\n",
    "    for i in range(x, 0, -1):\n",
    "      a = (\" \" * i) + (y * b)\n",
    "      b += 1  \n",
    "      print(a)\n",
    "\n",
    "  def Allpatterns(x, y):\n",
    "    pattern1(x, y)\n",
    "    print(\"\")\n",
    "    pattern2(x, y)\n",
    "    print(\"\")\n",
    "    pattern3(x, y)\n",
    "    print(\"\")\n",
    "    pattern4(x, y)\n",
    "  \n",
    "  Allpatterns(x, y)\n",
    "\n",
    "except(ValueError):\n",
    "  print(\"Datos invalidos\")\n"
   ]
  },
  {
   "cell_type": "code",
   "execution_count": 4,
   "metadata": {},
   "outputs": [
    {
     "name": "stdout",
     "output_type": "stream",
     "text": [
      "Ingrese año de nacimiento: 1990\n",
      "Ingrese mes de nacimiento: 07\n",
      "Ingrese dia de nacimiento: 14\n",
      "\n",
      "\n",
      "El dia de hoy 2021-03-04\n",
      "\n",
      "Usted tienen un aproximado de 30.0 años, 8.0 meses, y 1.0 dias de edad\n"
     ]
    }
   ],
   "source": [
    "# Parte 1\n",
    "# Pregunta 3\n",
    "\n",
    "import time\n",
    "from datetime import date\n",
    "\n",
    "year = input(\"Ingrese año de nacimiento: \")\n",
    "month = input(\"Ingrese mes de nacimiento: \")\n",
    "day = input(\"Ingrese dia de nacimiento: \")\n",
    "\n",
    "\n",
    "try:\n",
    "  def calculateAge(year, month, day): \n",
    "    dt = year + \"-\" + month + \"-\" + day\n",
    "    timeStruct = time.strptime(dt, \"%Y-%m-%d\")\n",
    "    t1 = time.mktime(timeStruct)\n",
    "    t2 = time.mktime(time.strptime(str(date.today()), \"%Y-%m-%d\"))\n",
    "    resta = t2-t1\n",
    "    def segundosAaños(resta):\n",
    "      años = resta // 31536000\n",
    "      meses = (resta%31536000) // 2592000\n",
    "      dias = ((resta%31536000)%2592000)//86400\n",
    "      print(\"\\n\")\n",
    "      print(\"El dia de hoy {}\\n\".format(date.today()))\n",
    "      print(\"Usted tienen un aproximado de {} años, {} meses, y {} dias de edad\".format(años, meses, dias))\n",
    "      \n",
    "    segundosAaños(resta)\n",
    "\n",
    "  calculateAge(year, month, day)\n",
    "\n",
    "except(ValueError):\n",
    "  print(\"Valor Invalido\")"
   ]
  },
  {
   "cell_type": "code",
   "execution_count": 5,
   "metadata": {},
   "outputs": [
    {
     "name": "stdout",
     "output_type": "stream",
     "text": [
      "Ingrese caracter para agregar ala tupla o escriba 'continuar' para proceder: \n",
      "jf\n",
      "\n",
      "\n",
      "Ingrese caracter para agregar ala tupla o escriba 'continuar' para proceder: \n",
      "fefe\n",
      "\n",
      "\n",
      "Ingrese caracter para agregar ala tupla o escriba 'continuar' para proceder: \n",
      "efe\n",
      "\n",
      "\n",
      "Ingrese caracter para agregar ala tupla o escriba 'continuar' para proceder: \n",
      "3\n",
      "\n",
      "\n",
      "Ingrese caracter para agregar ala tupla o escriba 'continuar' para proceder: \n",
      "continuar\n",
      "\n",
      "\n",
      "Su tupla es la siguiente:\n",
      "('j', 'f', 'f', 'e', 'f', 'e', 'e', 'f', 'e', '3', 'c', 'o', 'n', 't', 'i', 'n', 'u', 'a', 'r')\n",
      "\n",
      "Su tupla convertida a string es la siguiente: \n",
      "\n",
      "jffefeefe3continuar\n"
     ]
    }
   ],
   "source": [
    "# Parte 2\n",
    "# Pregunta 1\n",
    "tupla = ()\n",
    "z = True\n",
    "while(z):\n",
    "  x = tuple(input(\"Ingrese caracter para agregar ala tupla o escriba 'continuar' para proceder: \\n\"))\n",
    "  print(\"\\n\")\n",
    "  tupla = tupla + x\n",
    "  if x == tuple(\"continuar\"):\n",
    "    z = False\n",
    "  else:\n",
    "    continue\n",
    "print(\"Su tupla es la siguiente:\")\n",
    "print(tupla)\n",
    "def tupleToString(tupla):\n",
    "  output = \"\".join(list(tupla))\n",
    "  print(\"\\nSu tupla convertida a string es la siguiente: \\n\")\n",
    "  print(output)\n",
    "\n",
    "tupleToString(tupla)"
   ]
  },
  {
   "cell_type": "code",
   "execution_count": 6,
   "metadata": {},
   "outputs": [
    {
     "name": "stdout",
     "output_type": "stream",
     "text": [
      "[(), (), ('X',), ('a', 'b'), ('a', 'b', 'c'), 'd']\n",
      "Se han elminado todas las tupla vacias\n"
     ]
    },
    {
     "data": {
      "text/plain": [
       "[('X',), ('a', 'b'), ('a', 'b', 'c'), 'd']"
      ]
     },
     "execution_count": 6,
     "metadata": {},
     "output_type": "execute_result"
    }
   ],
   "source": [
    "# Parte 2\n",
    "# Pregunta 2\n",
    "tupla = ()\n",
    "listadetuplas =[(), (), ('X',), ('a', 'b'), ('a', 'b', 'c'), ('d')]\n",
    "print(listadetuplas)\n",
    "\n",
    "nuevalista = []\n",
    "for i in listadetuplas:\n",
    "  if i != ():\n",
    "    nuevalista.append(i)\n",
    "  else:\n",
    "    continue\n",
    "print(\"Se han elminado todas las tupla vacias\")\n",
    "nuevalista\n"
   ]
  },
  {
   "cell_type": "code",
   "execution_count": 7,
   "metadata": {},
   "outputs": [
    {
     "name": "stdout",
     "output_type": "stream",
     "text": [
      "[(10, 10, 10, 12), (30, 45, 56, 45), (81, 80, 39, 32)]\n",
      "El promedio de los valores dentro de cada tupla es el siguiente: [10.5, 44.0, 58.0]\n"
     ]
    }
   ],
   "source": [
    "# Parte 2\n",
    "# Pregunta 3\n",
    "\n",
    "tupla = ((10, 10, 10, 12), (30, 45, 56, 45), (81, 80, 39, 32))\n",
    "lista = list(tupla)\n",
    "lista1 = []\n",
    "print(lista)\n",
    "for i in lista:\n",
    "  z = list(i)\n",
    "  sum = 0\n",
    "  for j in z:\n",
    "    sum = sum + j\n",
    "  x = (sum/len(z))\n",
    "  lista1.append(x)\n",
    "print(\"El promedio de los valores dentro de cada tupla es el siguiente: {}\".format(lista1))"
   ]
  },
  {
   "cell_type": "code",
   "execution_count": null,
   "metadata": {},
   "outputs": [],
   "source": []
  }
 ],
 "metadata": {
  "kernelspec": {
   "display_name": "Python 3",
   "language": "python",
   "name": "python3"
  },
  "language_info": {
   "codemirror_mode": {
    "name": "ipython",
    "version": 3
   },
   "file_extension": ".py",
   "mimetype": "text/x-python",
   "name": "python",
   "nbconvert_exporter": "python",
   "pygments_lexer": "ipython3",
   "version": "3.7.6"
  }
 },
 "nbformat": 4,
 "nbformat_minor": 4
}
